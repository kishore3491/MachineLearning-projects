{
 "cells": [
  {
   "cell_type": "code",
   "execution_count": 1,
   "metadata": {
    "collapsed": false
   },
   "outputs": [
    {
     "name": "stderr",
     "output_type": "stream",
     "text": [
      "Using TensorFlow backend.\n"
     ]
    }
   ],
   "source": [
    "from keras.models import Sequential\n",
    "from keras.layers.core import Dense, Dropout, Activation\n",
    "from keras.optimizers import Adam\n",
    "from keras.utils import np_utils"
   ]
  },
  {
   "cell_type": "code",
   "execution_count": 65,
   "metadata": {
    "collapsed": true
   },
   "outputs": [],
   "source": [
    "from keras.layers import Convolution2D, MaxPooling2D, Flatten"
   ]
  },
  {
   "cell_type": "code",
   "execution_count": 14,
   "metadata": {
    "collapsed": true
   },
   "outputs": [],
   "source": [
    "import numpy as np"
   ]
  },
  {
   "cell_type": "code",
   "execution_count": 3,
   "metadata": {
    "collapsed": true
   },
   "outputs": [],
   "source": [
    "from keras.datasets import mnist"
   ]
  },
  {
   "cell_type": "code",
   "execution_count": 89,
   "metadata": {
    "collapsed": true
   },
   "outputs": [],
   "source": [
    "# the data, shuffled and split between train and test sets\n",
    "(X_train, y_train), (X_test, y_test) = mnist.load_data()"
   ]
  },
  {
   "cell_type": "code",
   "execution_count": 90,
   "metadata": {
    "collapsed": false
   },
   "outputs": [
    {
     "data": {
      "text/plain": [
       "(60000, 28, 28)"
      ]
     },
     "execution_count": 90,
     "metadata": {},
     "output_type": "execute_result"
    }
   ],
   "source": [
    "X_train.shape"
   ]
  },
  {
   "cell_type": "code",
   "execution_count": 91,
   "metadata": {
    "collapsed": false
   },
   "outputs": [
    {
     "data": {
      "text/plain": [
       "(60000, 28, 28, 1)"
      ]
     },
     "execution_count": 91,
     "metadata": {},
     "output_type": "execute_result"
    }
   ],
   "source": [
    "img_rows = X_train.shape[1]\n",
    "img_cols = X_train.shape[2]\n",
    "X_train = X_train.reshape(X_train.shape[0], img_rows, img_cols, 1)\n",
    "X_test = X_test.reshape(X_test.shape[0], img_rows, img_cols, 1)\n",
    "X_train.shape"
   ]
  },
  {
   "cell_type": "code",
   "execution_count": 92,
   "metadata": {
    "collapsed": true
   },
   "outputs": [],
   "source": [
    "input_shape = (img_rows, img_cols, 1)"
   ]
  },
  {
   "cell_type": "code",
   "execution_count": 93,
   "metadata": {
    "collapsed": false
   },
   "outputs": [
    {
     "name": "stdout",
     "output_type": "stream",
     "text": [
      "('X_train shape:', (60000, 28, 28, 1))\n",
      "(60000, 'train samples')\n",
      "(10000, 'test samples')\n"
     ]
    }
   ],
   "source": [
    "X_train = X_train.astype('float32')\n",
    "X_test = X_test.astype('float32')\n",
    "X_train /= 255\n",
    "X_test /= 255\n",
    "print('X_train shape:', X_train.shape)\n",
    "print(X_train.shape[0], 'train samples')\n",
    "print(X_test.shape[0], 'test samples')"
   ]
  },
  {
   "cell_type": "code",
   "execution_count": 94,
   "metadata": {
    "collapsed": false
   },
   "outputs": [
    {
     "data": {
      "text/plain": [
       "(60000,)"
      ]
     },
     "execution_count": 94,
     "metadata": {},
     "output_type": "execute_result"
    }
   ],
   "source": [
    "y_train.shape"
   ]
  },
  {
   "cell_type": "code",
   "execution_count": 95,
   "metadata": {
    "collapsed": false
   },
   "outputs": [
    {
     "data": {
      "text/plain": [
       "(60000, 10)"
      ]
     },
     "execution_count": 95,
     "metadata": {},
     "output_type": "execute_result"
    }
   ],
   "source": [
    "# convert class vectors to binary class matrices\n",
    "nb_classes = 10\n",
    "Y_train = np_utils.to_categorical(y_train, nb_classes)\n",
    "Y_test = np_utils.to_categorical(y_test, nb_classes)\n",
    "Y_train.shape"
   ]
  },
  {
   "cell_type": "code",
   "execution_count": 163,
   "metadata": {
    "collapsed": true
   },
   "outputs": [],
   "source": [
    "model = Sequential()"
   ]
  },
  {
   "cell_type": "code",
   "execution_count": 164,
   "metadata": {
    "collapsed": false
   },
   "outputs": [],
   "source": [
    "model.add(Convolution2D(128, 3, 3, border_mode='same', input_shape=input_shape))\n",
    "model.add(Activation('relu'))\n",
    "model.add(MaxPooling2D(pool_size=(2,2)))\n",
    "model.add(Convolution2D(64, 3, 3, border_mode='valid'))\n",
    "model.add(Activation('relu'))\n",
    "model.add(MaxPooling2D(pool_size=(2,2)))\n",
    "\n",
    "model.add(Flatten())\n",
    "\n",
    "model.add(Dense(128))\n",
    "model.add(Activation('relu'))\n",
    "model.add(Dropout(0.4))\n",
    "\n",
    "model.add(Dense(64))\n",
    "model.add(Activation('relu'))\n",
    "model.add(Dropout(0.4))\n",
    "\n",
    "model.add(Dense(10))\n",
    "model.add(Activation('softmax'))"
   ]
  },
  {
   "cell_type": "code",
   "execution_count": 165,
   "metadata": {
    "collapsed": false
   },
   "outputs": [
    {
     "name": "stdout",
     "output_type": "stream",
     "text": [
      "____________________________________________________________________________________________________\n",
      "Layer (type)                     Output Shape          Param #     Connected to                     \n",
      "====================================================================================================\n",
      "convolution2d_36 (Convolution2D) (None, 28, 28, 128)   1280        convolution2d_input_13[0][0]     \n",
      "____________________________________________________________________________________________________\n",
      "activation_45 (Activation)       (None, 28, 28, 128)   0           convolution2d_36[0][0]           \n",
      "____________________________________________________________________________________________________\n",
      "maxpooling2d_7 (MaxPooling2D)    (None, 14, 14, 128)   0           activation_45[0][0]              \n",
      "____________________________________________________________________________________________________\n",
      "convolution2d_37 (Convolution2D) (None, 12, 12, 64)    73792       maxpooling2d_7[0][0]             \n",
      "____________________________________________________________________________________________________\n",
      "activation_46 (Activation)       (None, 12, 12, 64)    0           convolution2d_37[0][0]           \n",
      "____________________________________________________________________________________________________\n",
      "maxpooling2d_8 (MaxPooling2D)    (None, 6, 6, 64)      0           activation_46[0][0]              \n",
      "____________________________________________________________________________________________________\n",
      "flatten_12 (Flatten)             (None, 2304)          0           maxpooling2d_8[0][0]             \n",
      "____________________________________________________________________________________________________\n",
      "dense_28 (Dense)                 (None, 128)           295040      flatten_12[0][0]                 \n",
      "____________________________________________________________________________________________________\n",
      "activation_47 (Activation)       (None, 128)           0           dense_28[0][0]                   \n",
      "____________________________________________________________________________________________________\n",
      "dropout_15 (Dropout)             (None, 128)           0           activation_47[0][0]              \n",
      "____________________________________________________________________________________________________\n",
      "dense_29 (Dense)                 (None, 64)            8256        dropout_15[0][0]                 \n",
      "____________________________________________________________________________________________________\n",
      "activation_48 (Activation)       (None, 64)            0           dense_29[0][0]                   \n",
      "____________________________________________________________________________________________________\n",
      "dropout_16 (Dropout)             (None, 64)            0           activation_48[0][0]              \n",
      "____________________________________________________________________________________________________\n",
      "dense_30 (Dense)                 (None, 10)            650         dropout_16[0][0]                 \n",
      "____________________________________________________________________________________________________\n",
      "activation_49 (Activation)       (None, 10)            0           dense_30[0][0]                   \n",
      "====================================================================================================\n",
      "Total params: 379018\n",
      "____________________________________________________________________________________________________\n"
     ]
    }
   ],
   "source": [
    "model.summary()"
   ]
  },
  {
   "cell_type": "code",
   "execution_count": 166,
   "metadata": {
    "collapsed": true
   },
   "outputs": [],
   "source": [
    "model.compile(optimizer=Adam(), loss='categorical_crossentropy',\n",
    "          metrics=['accuracy'])"
   ]
  },
  {
   "cell_type": "code",
   "execution_count": 167,
   "metadata": {
    "collapsed": true
   },
   "outputs": [],
   "source": [
    "nb_epoch = 60"
   ]
  },
  {
   "cell_type": "code",
   "execution_count": 168,
   "metadata": {
    "collapsed": false
   },
   "outputs": [
    {
     "name": "stdout",
     "output_type": "stream",
     "text": [
      "Epoch 1/60\n",
      "60000/60000 [==============================] - 14s - loss: 0.3245 - acc: 0.9012    \n",
      "Epoch 2/60\n",
      "60000/60000 [==============================] - 14s - loss: 0.1004 - acc: 0.9734    \n",
      "Epoch 3/60\n",
      "60000/60000 [==============================] - 14s - loss: 0.0754 - acc: 0.9796    \n",
      "Epoch 4/60\n",
      "60000/60000 [==============================] - 14s - loss: 0.0628 - acc: 0.9830    \n",
      "Epoch 5/60\n",
      "60000/60000 [==============================] - 14s - loss: 0.0518 - acc: 0.9859    \n",
      "Epoch 6/60\n",
      "60000/60000 [==============================] - 14s - loss: 0.0437 - acc: 0.9879    \n",
      "Epoch 7/60\n",
      "60000/60000 [==============================] - 14s - loss: 0.0406 - acc: 0.9890    \n",
      "Epoch 8/60\n",
      "60000/60000 [==============================] - 14s - loss: 0.0355 - acc: 0.9903    \n",
      "Epoch 9/60\n",
      "60000/60000 [==============================] - 14s - loss: 0.0322 - acc: 0.9910    \n",
      "Epoch 10/60\n",
      "60000/60000 [==============================] - 14s - loss: 0.0310 - acc: 0.9917    \n",
      "Epoch 11/60\n",
      "60000/60000 [==============================] - 14s - loss: 0.0275 - acc: 0.9922    \n",
      "Epoch 12/60\n",
      "60000/60000 [==============================] - 14s - loss: 0.0254 - acc: 0.9930    \n",
      "Epoch 13/60\n",
      "60000/60000 [==============================] - 14s - loss: 0.0245 - acc: 0.9928    \n",
      "Epoch 14/60\n",
      "60000/60000 [==============================] - 14s - loss: 0.0245 - acc: 0.9933    \n",
      "Epoch 15/60\n",
      "60000/60000 [==============================] - 14s - loss: 0.0198 - acc: 0.9946    \n",
      "Epoch 16/60\n",
      "60000/60000 [==============================] - 14s - loss: 0.0202 - acc: 0.9945    \n",
      "Epoch 17/60\n",
      "60000/60000 [==============================] - 14s - loss: 0.0203 - acc: 0.9943    \n",
      "Epoch 18/60\n",
      "60000/60000 [==============================] - 14s - loss: 0.0181 - acc: 0.9951    \n",
      "Epoch 19/60\n",
      "60000/60000 [==============================] - 14s - loss: 0.0159 - acc: 0.9953    \n",
      "Epoch 20/60\n",
      "60000/60000 [==============================] - 14s - loss: 0.0171 - acc: 0.9950    \n",
      "Epoch 21/60\n",
      "60000/60000 [==============================] - 14s - loss: 0.0148 - acc: 0.9957    \n",
      "Epoch 22/60\n",
      "60000/60000 [==============================] - 14s - loss: 0.0151 - acc: 0.9955    \n",
      "Epoch 23/60\n",
      "60000/60000 [==============================] - 14s - loss: 0.0151 - acc: 0.9955    \n",
      "Epoch 24/60\n",
      "60000/60000 [==============================] - 14s - loss: 0.0129 - acc: 0.9965    \n",
      "Epoch 25/60\n",
      "60000/60000 [==============================] - 14s - loss: 0.0132 - acc: 0.9962    \n",
      "Epoch 26/60\n",
      "60000/60000 [==============================] - 14s - loss: 0.0137 - acc: 0.9963    \n",
      "Epoch 27/60\n",
      "60000/60000 [==============================] - 14s - loss: 0.0134 - acc: 0.9961    \n",
      "Epoch 28/60\n",
      "60000/60000 [==============================] - 14s - loss: 0.0133 - acc: 0.9960    \n",
      "Epoch 29/60\n",
      "60000/60000 [==============================] - 14s - loss: 0.0115 - acc: 0.9969    \n",
      "Epoch 30/60\n",
      "60000/60000 [==============================] - 14s - loss: 0.0105 - acc: 0.9970    \n",
      "Epoch 31/60\n",
      "60000/60000 [==============================] - 14s - loss: 0.0129 - acc: 0.9965    \n",
      "Epoch 32/60\n",
      "60000/60000 [==============================] - 14s - loss: 0.0104 - acc: 0.9970    \n",
      "Epoch 33/60\n",
      "60000/60000 [==============================] - 14s - loss: 0.0115 - acc: 0.9967    \n",
      "Epoch 34/60\n",
      "60000/60000 [==============================] - 14s - loss: 0.0111 - acc: 0.9967    \n",
      "Epoch 35/60\n",
      "60000/60000 [==============================] - 14s - loss: 0.0091 - acc: 0.9975    \n",
      "Epoch 36/60\n",
      "60000/60000 [==============================] - 14s - loss: 0.0126 - acc: 0.9966    \n",
      "Epoch 37/60\n",
      "60000/60000 [==============================] - 14s - loss: 0.0109 - acc: 0.9971    \n",
      "Epoch 38/60\n",
      "60000/60000 [==============================] - 14s - loss: 0.0121 - acc: 0.9966    \n",
      "Epoch 39/60\n",
      "60000/60000 [==============================] - 14s - loss: 0.0085 - acc: 0.9975    \n",
      "Epoch 40/60\n",
      "60000/60000 [==============================] - 14s - loss: 0.0104 - acc: 0.9973    \n",
      "Epoch 41/60\n",
      "60000/60000 [==============================] - 14s - loss: 0.0105 - acc: 0.9973    \n",
      "Epoch 42/60\n",
      "60000/60000 [==============================] - 14s - loss: 0.0103 - acc: 0.9973    \n",
      "Epoch 43/60\n",
      "60000/60000 [==============================] - 14s - loss: 0.0114 - acc: 0.9968    \n",
      "Epoch 44/60\n",
      "60000/60000 [==============================] - 14s - loss: 0.0095 - acc: 0.9977    \n",
      "Epoch 45/60\n",
      "60000/60000 [==============================] - 14s - loss: 0.0109 - acc: 0.9971    \n",
      "Epoch 46/60\n",
      "60000/60000 [==============================] - 14s - loss: 0.0085 - acc: 0.9976    \n",
      "Epoch 47/60\n",
      "60000/60000 [==============================] - 14s - loss: 0.0081 - acc: 0.9977    \n",
      "Epoch 48/60\n",
      "60000/60000 [==============================] - 14s - loss: 0.0067 - acc: 0.9981    \n",
      "Epoch 49/60\n",
      "60000/60000 [==============================] - 14s - loss: 0.0103 - acc: 0.9973    \n",
      "Epoch 50/60\n",
      "60000/60000 [==============================] - 14s - loss: 0.0112 - acc: 0.9970    \n",
      "Epoch 51/60\n",
      "60000/60000 [==============================] - 14s - loss: 0.0073 - acc: 0.9980    \n",
      "Epoch 52/60\n",
      "60000/60000 [==============================] - 14s - loss: 0.0085 - acc: 0.9976    \n",
      "Epoch 53/60\n",
      "60000/60000 [==============================] - 14s - loss: 0.0078 - acc: 0.9980    \n",
      "Epoch 54/60\n",
      "60000/60000 [==============================] - 14s - loss: 0.0079 - acc: 0.9980    \n",
      "Epoch 55/60\n",
      "60000/60000 [==============================] - 14s - loss: 0.0074 - acc: 0.9980    \n",
      "Epoch 56/60\n",
      "60000/60000 [==============================] - 14s - loss: 0.0088 - acc: 0.9977    \n",
      "Epoch 57/60\n",
      "60000/60000 [==============================] - 14s - loss: 0.0090 - acc: 0.9978    \n",
      "Epoch 58/60\n",
      "60000/60000 [==============================] - 14s - loss: 0.0075 - acc: 0.9980    \n",
      "Epoch 59/60\n",
      "60000/60000 [==============================] - 14s - loss: 0.0085 - acc: 0.9978    \n",
      "Epoch 60/60\n",
      "60000/60000 [==============================] - 14s - loss: 0.0090 - acc: 0.9976    \n"
     ]
    },
    {
     "data": {
      "text/plain": [
       "<keras.callbacks.History at 0x7fb5f2f8bc50>"
      ]
     },
     "execution_count": 168,
     "metadata": {},
     "output_type": "execute_result"
    }
   ],
   "source": [
    "model.fit(X_train, Y_train, batch_size=64, nb_epoch=nb_epoch, verbose=1)"
   ]
  },
  {
   "cell_type": "code",
   "execution_count": 169,
   "metadata": {
    "collapsed": false
   },
   "outputs": [
    {
     "name": "stdout",
     "output_type": "stream",
     "text": [
      "('Test score:', 0.051131903135928886)\n",
      "('Test accuracy:', 0.99309999999999998)\n"
     ]
    }
   ],
   "source": [
    "score = model.evaluate(X_test, Y_test, batch_size=64, verbose=0)\n",
    "print('Test score:', score[0])\n",
    "print('Test accuracy:', score[1])"
   ]
  },
  {
   "cell_type": "code",
   "execution_count": 136,
   "metadata": {
    "collapsed": false
   },
   "outputs": [],
   "source": [
    "# Load kaggle data\n",
    "Ktest = np.loadtxt('/home/ec2-user/test.csv', dtype=np.float32, delimiter=',', skiprows=1)"
   ]
  },
  {
   "cell_type": "code",
   "execution_count": 137,
   "metadata": {
    "collapsed": true
   },
   "outputs": [],
   "source": [
    "Ktest = Ktest.reshape(Ktest.shape[0], 28, 28, 1)"
   ]
  },
  {
   "cell_type": "code",
   "execution_count": 170,
   "metadata": {
    "collapsed": false
   },
   "outputs": [],
   "source": [
    "Ky = model.predict_classes(Ktest, batch_size=64, verbose=0)"
   ]
  },
  {
   "cell_type": "code",
   "execution_count": 171,
   "metadata": {
    "collapsed": false
   },
   "outputs": [
    {
     "data": {
      "text/plain": [
       "(28000,)"
      ]
     },
     "execution_count": 171,
     "metadata": {},
     "output_type": "execute_result"
    }
   ],
   "source": [
    "Ky.shape"
   ]
  },
  {
   "cell_type": "code",
   "execution_count": 172,
   "metadata": {
    "collapsed": true
   },
   "outputs": [],
   "source": [
    "T = np.column_stack((np.arange(1, 28001), Ky))"
   ]
  },
  {
   "cell_type": "code",
   "execution_count": 173,
   "metadata": {
    "collapsed": true
   },
   "outputs": [],
   "source": [
    "np.savetxt('/home/ec2-user/data/submission_cnn.csv', T, delimiter=',', fmt='%i', newline='\\n', header='ImageId,Label', footer='', comments='')"
   ]
  },
  {
   "cell_type": "code",
   "execution_count": null,
   "metadata": {
    "collapsed": true
   },
   "outputs": [],
   "source": []
  }
 ],
 "metadata": {
  "anaconda-cloud": {},
  "kernelspec": {
   "display_name": "Python 2",
   "language": "python",
   "name": "python2"
  },
  "language_info": {
   "codemirror_mode": {
    "name": "ipython",
    "version": 2
   },
   "file_extension": ".py",
   "mimetype": "text/x-python",
   "name": "python",
   "nbconvert_exporter": "python",
   "pygments_lexer": "ipython2",
   "version": "2.7.12"
  }
 },
 "nbformat": 4,
 "nbformat_minor": 1
}
